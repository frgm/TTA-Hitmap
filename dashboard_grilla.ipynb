{
 "cells": [
  {
   "cell_type": "code",
   "execution_count": 1,
   "metadata": {
    "extensions": {
     "jupyter_dashboards": {
      "version": 1,
      "views": {
       "default_view": {
        "hidden": true
       }
      }
     }
    }
   },
   "outputs": [],
   "source": [
    "import pandas as pd\n",
    "import matplotlib.pyplot as plt\n",
    "import mplcursors\n",
    "import seaborn as sns\n",
    "import umap\n",
    "from sklearn.preprocessing import StandardScaler, MinMaxScaler\n",
    "from sklearn.decomposition import PCA\n",
    "from math import sin, cos, sqrt, atan2, radians\n",
    "from ipywidgets import Checkbox, HBox, VBox, Layout, Button, FloatSlider, FloatText, IntText, HTML\n",
    "from IPython.display import Javascript, display\n",
    "from functools import partial\n",
    "from colormath.color_objects import LabColor, sRGBColor\n",
    "from colormath.color_conversions import convert_color\n",
    "from colormath.color_diff import delta_e_cie2000\n",
    "\n",
    "# approximate radius of earth in km\n",
    "R = 6373.0\n",
    "# Should use this for measuring distances if possible\n",
    "def lldist(lat1, lon1, lat2, lon2):\n",
    "    dlon = lon2 - lon1\n",
    "    dlat = lat2 - lat1\n",
    "\n",
    "    a = sin(dlat / 2)**2 + cos(lat1) * cos(lat2) * sin(dlon / 2)**2\n",
    "    c = 2 * atan2(sqrt(a), sqrt(1 - a))\n",
    "\n",
    "    return R * c\n",
    "\n",
    "df = pd.read_excel(\"Grilla para Urbest 2020-08-26.xlsx\",sheet_name=0).dropna()\n",
    "desc = pd.read_excel(\"Grilla para Urbest 2020-08-26.xlsx\",sheet_name=1).dropna(subset=['Variable a 800 metros'])\n",
    "#print(df.head)\n",
    "%matplotlib widget"
   ]
  },
  {
   "cell_type": "markdown",
   "metadata": {
    "extensions": {
     "jupyter_dashboards": {
      "version": 1,
      "views": {
       "default_view": {
        "col": 0,
        "height": 2,
        "hidden": false,
        "row": 0,
        "width": 3
       }
      }
     }
    }
   },
   "source": [
    "### Variables selection"
   ]
  },
  {
   "cell_type": "code",
   "execution_count": 2,
   "metadata": {
    "extensions": {
     "jupyter_dashboards": {
      "version": 1,
      "views": {
       "default_view": {
        "hidden": true
       }
      }
     }
    }
   },
   "outputs": [],
   "source": [
    "desc_main =  {var: desc.loc[desc['Variable a 800 metros'] == var, 'Definición'].values[0] for var in desc['Variable a 800 metros'].to_list()[:1]}\n",
    "desc_main.update({'latitude':'Latitud','longitude':'Longitud'})\n",
    "desc_800 = {var: desc.loc[desc['Variable a 800 metros'] == var, 'Definición'].values[0] + ' (800 metros)' for var in desc['Variable a 800 metros'].to_list()[1:]}\n",
    "desc_1600 = {var: desc.loc[desc['Variable a 1600 metros'] == var, 'Definición'].values[0] + ' (1600 metros)' for var in desc['Variable a 1600 metros'].to_list()[1:]}\n",
    "desc_all = {} \n",
    "desc_all.update(desc_main)\n",
    "desc_all.update(desc_800)\n",
    "desc_all.update(desc_1600)\n",
    "#By default, geo variables, aggregate variables and variables at 1600m are disabled\n",
    "bools_all = {i: False if '(1600 metros)' in desc_all[i] else True for i in desc_all}\n",
    "bools_all['hm17mz_viv_tot_ssum2'] = False\n",
    "bools_all['hm17mz_gse_thog_ssum2'] = False\n",
    "bools_all['hm17mz_gse_alt_ssum2'] = False\n",
    "bools_all['hm17mz_gse_med_ssum2'] = False\n",
    "bools_all['hm17mz_gse_baj_ssum2'] = False\n",
    "bools_all['pore2_HospitalesyClínicas'] = False\n",
    "bools_all['latitude'] = False\n",
    "bools_all['longitude'] = False\n",
    "#print(desc_all)"
   ]
  },
  {
   "cell_type": "code",
   "execution_count": 3,
   "metadata": {
    "extensions": {
     "jupyter_dashboards": {
      "version": 1,
      "views": {
       "default_view": {
        "col": 0,
        "height": 20,
        "hidden": false,
        "row": 2,
        "width": 7
       }
      }
     }
    }
   },
   "outputs": [
    {
     "data": {
      "application/vnd.jupyter.widget-view+json": {
       "model_id": "5ad45326e10441708d509c211757ad1b",
       "version_major": 2,
       "version_minor": 0
      },
      "text/plain": [
       "HBox(children=(VBox(children=(HBox(children=(Checkbox(value=True), HTML(value='<style>p{word-wrap: break-word}…"
      ]
     },
     "metadata": {},
     "output_type": "display_data"
    }
   ],
   "source": [
    "ev_count = 0\n",
    "def tick(ch,key):\n",
    "    global ev_count    #Evitar repeats\n",
    "    ev_count += 1\n",
    "    if ev_count > 2:\n",
    "        val = ch.owner.value\n",
    "        bools_all[key] = val\n",
    "        #print(bools_all)\n",
    "        ev_count = 0\n",
    "    return \n",
    "chboxes = [HBox([Checkbox(bools_all[i],description=i),HTML(value='<style>p{word-wrap: break-word}</style><p>'+desc_all[i]+'</p>')]) for i in desc_all.keys()] #Add variable name to description...\n",
    "ch_per_wcol = int(len(chboxes)/3)\n",
    "wcol_1 = VBox(chboxes[:ch_per_wcol])\n",
    "wcol_2 = VBox(chboxes[ch_per_wcol:ch_per_wcol*2])\n",
    "wcol_3 = VBox(chboxes[ch_per_wcol*2:])\n",
    "hb = HBox([wcol_1,wcol_2,wcol_3])\n",
    "for ch in chboxes:\n",
    "    k = ch.children[0].description\n",
    "    ch.children[0].description = \"\" #...then remove variable name after it has been assigned to the event handler\n",
    "    ch.observe(partial(tick,key=k))\n",
    "display(hb)"
   ]
  },
  {
   "cell_type": "code",
   "execution_count": 4,
   "metadata": {
    "extensions": {
     "jupyter_dashboards": {
      "version": 1,
      "views": {
       "default_view": {
        "col": 3,
        "height": 2,
        "hidden": false,
        "row": 0,
        "width": 4
       }
      }
     }
    }
   },
   "outputs": [
    {
     "data": {
      "application/vnd.jupyter.widget-view+json": {
       "model_id": "26bc5e9b62134f0c9960dbf485c2bd24",
       "version_major": 2,
       "version_minor": 0
      },
      "text/plain": [
       "Button(description='Make model', style=ButtonStyle())"
      ]
     },
     "metadata": {},
     "output_type": "display_data"
    }
   ],
   "source": [
    "def crear_modelo(btn):\n",
    "    display(Javascript('IPython.notebook.execute_cells_below()'))\n",
    "#TODO: Encapsulate methods in functions so it doesn't execute all cells. Though it may still need to\n",
    "btn = Button(description=\"Make model\")\n",
    "btn.on_click(crear_modelo)\n",
    "display(btn)"
   ]
  },
  {
   "cell_type": "code",
   "execution_count": 5,
   "metadata": {
    "extensions": {
     "jupyter_dashboards": {
      "version": 1,
      "views": {
       "default_view": {
        "hidden": true
       }
      }
     }
    }
   },
   "outputs": [],
   "source": [
    "#Not part of the variables set: 'id','name','project','status','city',\n",
    "data_cols = [i for i in bools_all if bools_all[i] == True]\n",
    "#print(data_cols)"
   ]
  },
  {
   "cell_type": "code",
   "execution_count": 6,
   "metadata": {
    "extensions": {
     "jupyter_dashboards": {
      "version": 1,
      "views": {
       "default_view": {
        "col": 0,
        "height": 2,
        "hidden": true,
        "row": 143,
        "width": 12
       }
      }
     }
    }
   },
   "outputs": [],
   "source": [
    "raw_data = df[data_cols].values\n",
    "std_data = StandardScaler().fit_transform(raw_data)\n",
    "red = umap.UMAP(n_neighbors=10,random_state=55).fit(std_data) #Fixed RNG seed\n",
    "ids = df[\"id\"]\n",
    "embedding = red.embedding_ #Was red.fit_transform\n",
    "embedding_df = pd.DataFrame(data=embedding, index=ids.values, columns=[\"umap_0\", \"umap_1\"])"
   ]
  },
  {
   "cell_type": "markdown",
   "metadata": {
    "extensions": {
     "jupyter_dashboards": {
      "version": 1,
      "views": {
       "default_view": {
        "col": 7,
        "height": 2,
        "hidden": false,
        "row": 0,
        "width": 4
       }
      }
     }
    }
   },
   "source": [
    "## UMAP Diagrams"
   ]
  },
  {
   "cell_type": "code",
   "execution_count": 7,
   "metadata": {
    "extensions": {
     "jupyter_dashboards": {
      "version": 1,
      "views": {
       "default_view": {
        "col": 7,
        "height": 11,
        "hidden": false,
        "row": 13,
        "width": 4
       }
      }
     }
    }
   },
   "outputs": [
    {
     "data": {
      "application/vnd.jupyter.widget-view+json": {
       "model_id": "db6b7c1282474402a170725e1e571ebe",
       "version_major": 2,
       "version_minor": 0
      },
      "text/plain": [
       "Canvas(toolbar=Toolbar(toolitems=[('Home', 'Reset original view', 'home', 'home'), ('Back', 'Back to previous …"
      ]
     },
     "metadata": {},
     "output_type": "display_data"
    }
   ],
   "source": [
    "fig, ax1 = plt.subplots(figsize=(5,4))\n",
    "fig.tight_layout()\n",
    "sns.scatterplot(x=embedding_df[\"umap_0\"], y=embedding_df[\"umap_1\"])\n",
    "plt.show()"
   ]
  },
  {
   "cell_type": "code",
   "execution_count": 8,
   "metadata": {
    "extensions": {
     "jupyter_dashboards": {
      "version": 1,
      "views": {
       "default_view": {
        "hidden": true
       }
      }
     }
    }
   },
   "outputs": [],
   "source": [
    "x_min = min(df[\"latitude\"])\n",
    "y_min = min(df[\"longitude\"])\n",
    "d_x = df.set_index(\"id\")[\"latitude\"].apply(lambda x: x - x_min)\n",
    "d_y = df.set_index(\"id\")[\"longitude\"].apply(lambda y: y - y_min)\n",
    "d_x = d_x / max(d_x)\n",
    "d_y = d_y / max(d_y)\n",
    "emb_df = embedding_df.copy()\n",
    "emb_df[\"d_x\"] = d_x\n",
    "emb_df[\"d_y\"] = d_y"
   ]
  },
  {
   "cell_type": "code",
   "execution_count": 9,
   "metadata": {
    "extensions": {
     "jupyter_dashboards": {
      "version": 1,
      "views": {
       "default_view": {
        "col": 7,
        "height": 11,
        "hidden": false,
        "row": 2,
        "width": 4
       }
      }
     }
    }
   },
   "outputs": [
    {
     "data": {
      "application/vnd.jupyter.widget-view+json": {
       "model_id": "26035a712c214fe7b4265b7f3273d675",
       "version_major": 2,
       "version_minor": 0
      },
      "text/plain": [
       "Canvas(toolbar=Toolbar(toolitems=[('Home', 'Reset original view', 'home', 'home'), ('Back', 'Back to previous …"
      ]
     },
     "metadata": {},
     "output_type": "display_data"
    }
   ],
   "source": [
    "cmap = sns.cubehelix_palette(light=0.75,as_cmap=True)\n",
    "fig, ax1 = plt.subplots(figsize=(5,4))\n",
    "fig.tight_layout()\n",
    "sns.scatterplot(x=emb_df[\"umap_0\"], y=emb_df[\"umap_1\"], alpha = 0.5, size=100 * emb_df[\"d_y\"], sizes=(0, 100), hue = emb_df[\"d_x\"], palette=cmap)\n",
    "plt.show()"
   ]
  },
  {
   "cell_type": "markdown",
   "metadata": {
    "extensions": {
     "jupyter_dashboards": {
      "version": 1,
      "views": {
       "default_view": {
        "col": 0,
        "height": 2,
        "hidden": false,
        "row": 22,
        "width": 7
       }
      }
     }
    }
   },
   "source": [
    "## Marker map"
   ]
  },
  {
   "cell_type": "code",
   "execution_count": 10,
   "metadata": {
    "extensions": {
     "jupyter_dashboards": {
      "version": 1,
      "views": {
       "default_view": {
        "col": 0,
        "height": 27,
        "hidden": false,
        "row": 24,
        "width": 11
       }
      }
     }
    }
   },
   "outputs": [
    {
     "data": {
      "application/vnd.jupyter.widget-view+json": {
       "model_id": "378855af0d4c463c90bcb4250b2aa0a6",
       "version_major": 2,
       "version_minor": 0
      },
      "text/plain": [
       "Canvas(toolbar=Toolbar(toolitems=[('Home', 'Reset original view', 'home', 'home'), ('Back', 'Back to previous …"
      ]
     },
     "metadata": {},
     "output_type": "display_data"
    }
   ],
   "source": [
    "#plt.figure(figsize=(25,30))\n",
    "fig, ax1 = plt.subplots(figsize=(12,12))\n",
    "fig.tight_layout()\n",
    "ax1.set_xlim([-0.05,1.05])\n",
    "ax1.set_ylim([-0.05,1.05])\n",
    "sns.scatterplot(x=emb_df[\"d_y\"], y=emb_df[\"d_x\"], alpha = 0.5, size=100 * emb_df[\"umap_1\"], sizes=(0, 100), hue = emb_df[\"umap_0\"], palette=cmap)\n",
    "plt.show()"
   ]
  },
  {
   "cell_type": "code",
   "execution_count": 11,
   "metadata": {
    "extensions": {
     "jupyter_dashboards": {
      "version": 1,
      "views": {
       "default_view": {
        "col": 0,
        "height": 26,
        "hidden": false,
        "row": 51,
        "width": 11
       }
      }
     }
    }
   },
   "outputs": [
    {
     "data": {
      "application/vnd.jupyter.widget-view+json": {
       "model_id": "f6aba7801d5f4091a8985aab1ed0b8eb",
       "version_major": 2,
       "version_minor": 0
      },
      "text/plain": [
       "Canvas(toolbar=Toolbar(toolitems=[('Home', 'Reset original view', 'home', 'home'), ('Back', 'Back to previous …"
      ]
     },
     "metadata": {},
     "output_type": "display_data"
    }
   ],
   "source": [
    "#Ranges: 0,1 for RGB, -128,127 for CIELAB\n",
    "lab_light = 50 #CIELAB L variable\n",
    "emb_df[['umap_norm_0','umap_norm_1']] = MinMaxScaler(feature_range=(-127,128)).fit_transform(emb_df[['umap_0','umap_1']])\n",
    "emb_df['umap_color_lab'] = emb_df.apply(lambda x: LabColor(lab_light,x['umap_norm_0'], x['umap_norm_1']), axis=1)\n",
    "emb_df['umap_color_rgb'] = emb_df.apply(lambda x: convert_color(x['umap_color_lab'], sRGBColor), axis=1) #para poder ser ploteado, hay que convertir a RGB\n",
    "emb_df['umap_color_rgb'] = emb_df.apply(lambda x: (x['umap_color_rgb'].clamped_rgb_r,x['umap_color_rgb'].clamped_rgb_g,x['umap_color_rgb'].clamped_rgb_b), axis=1) #Se pierde fidelidad al clampear\n",
    "#plt.figure(figsize=(25,30))\n",
    "#plt.scatter(emb_df['d_y'],emb_df['d_x'],c = emb_df['umap_color_rgb'],s=90)\n",
    "fig, ax1 = plt.subplots(figsize=(12,12))\n",
    "fig.tight_layout()\n",
    "ax1.set_xlim([-0.05,1.05])\n",
    "ax1.set_ylim([-0.05,1.05])\n",
    "emb_df.plot.scatter('d_y','d_x',c = emb_df['umap_color_rgb'],s=20, ax=ax1)\n",
    "plt.show()"
   ]
  },
  {
   "cell_type": "code",
   "execution_count": 12,
   "metadata": {
    "extensions": {
     "jupyter_dashboards": {
      "version": 1,
      "views": {
       "default_view": {
        "hidden": true
       }
      }
     }
    }
   },
   "outputs": [],
   "source": [
    "mark_id = 266218 #ID of the reference marker. Currently a known marker that exists in the dataset as default\n",
    "threshold = 0.14 #Maximum UMAP distance to graph\n",
    "min_dist = 0 #Minimum geographical distance to graph in the PCA stage"
   ]
  },
  {
   "cell_type": "code",
   "execution_count": 13,
   "metadata": {
    "extensions": {
     "jupyter_dashboards": {
      "version": 1,
      "views": {
       "default_view": {
        "col": 0,
        "height": 3,
        "hidden": false,
        "row": 77,
        "width": 5
       }
      }
     }
    }
   },
   "outputs": [
    {
     "data": {
      "application/vnd.jupyter.widget-view+json": {
       "model_id": "71f572c1011444668a908094631e096b",
       "version_major": 2,
       "version_minor": 0
      },
      "text/plain": [
       "Button(description='Make comparisons', style=ButtonStyle())"
      ]
     },
     "metadata": {},
     "output_type": "display_data"
    },
    {
     "data": {
      "application/vnd.jupyter.widget-view+json": {
       "model_id": "43bcdc9abcf442cda2933f0f30e26b78",
       "version_major": 2,
       "version_minor": 0
      },
      "text/plain": [
       "IntText(value=266218, description='Marker ID')"
      ]
     },
     "metadata": {},
     "output_type": "display_data"
    }
   ],
   "source": [
    "def make_comparisons(btn):\n",
    "    global mark_id\n",
    "    mark_id = id_field.value\n",
    "    display(Javascript('IPython.notebook.execute_cells_below()'))\n",
    "    \n",
    "def id_observer(field):\n",
    "    global mark_id\n",
    "    mark_id = field.new\n",
    "    \n",
    "comp_btn = Button(description=\"Make comparisons\")\n",
    "comp_btn.on_click(make_comparisons)\n",
    "id_field = IntText(value=266218, description='Marker ID')\n",
    "display(comp_btn, id_field)"
   ]
  },
  {
   "cell_type": "code",
   "execution_count": 14,
   "metadata": {
    "extensions": {
     "jupyter_dashboards": {
      "version": 1,
      "views": {
       "default_view": {
        "hidden": true
       }
      }
     }
    }
   },
   "outputs": [],
   "source": [
    "def umap_dist(x_u0,x_u1,y_u0,y_u1):\n",
    "    return sqrt((x_u0 -  y_u0)**2 + (x_u1 - y_u1)**2)\n",
    "    \n",
    "def max_dist(umap_pts): #Input: [(umap_x_1, umap_y_1),...]\n",
    "    max_dist = 0\n",
    "    for (x, y) in umap_pts:\n",
    "        for (w, z) in umap_pts:\n",
    "            d = umap_dist(x,y,w,z)\n",
    "            if d > max_dist:\n",
    "                max_dist = d\n",
    "    return max_dist\n",
    "\n",
    "#mark_colr = emb_df.loc[mark_id,'umap_color_lab']\n",
    "#emb_df['color_sim'] = emb_df.apply(lambda x: delta_e_cie2000(mark_colr,x['umap_color_lab']), axis=1) #Lento, evitese ejecutar demasiado\n",
    "mark_u0 = emb_df.loc[mark_id,'umap_0']\n",
    "mark_u1 = emb_df.loc[mark_id,'umap_1']\n",
    "maximum = max_dist([(u0,u1) for u0,u1 in zip(emb_df['umap_0'],emb_df['umap_1'])])    #Lento\n",
    "emb_df['mark_umap_dist'] = emb_df.apply(lambda x: umap_dist(mark_u0,mark_u1,x['umap_0'],x['umap_1'])/maximum, axis=1) #Normalizado"
   ]
  },
  {
   "cell_type": "code",
   "execution_count": 15,
   "metadata": {
    "extensions": {
     "jupyter_dashboards": {
      "version": 1,
      "views": {
       "default_view": {
        "col": 0,
        "height": 2,
        "hidden": false,
        "row": 80,
        "width": 5
       }
      }
     }
    }
   },
   "outputs": [
    {
     "data": {
      "application/vnd.jupyter.widget-view+json": {
       "model_id": "690fd3481c87435298ca602b4d7aa029",
       "version_major": 2,
       "version_minor": 0
      },
      "text/plain": [
       "FloatText(value=0.14, description='Maximum UMAP distance')"
      ]
     },
     "metadata": {},
     "output_type": "display_data"
    }
   ],
   "source": [
    "def threshold_observer(field):\n",
    "    global threshold\n",
    "    threshold = field.new\n",
    "    display(Javascript('IPython.notebook.execute_cells_below()'))\n",
    "\n",
    "threshold_field = FloatText(value=threshold,Min=0,Max=20,description='Maximum UMAP distance')\n",
    "threshold_field.observe(threshold_observer,'value')\n",
    "display(threshold_field)"
   ]
  },
  {
   "cell_type": "code",
   "execution_count": 16,
   "metadata": {
    "extensions": {
     "jupyter_dashboards": {
      "version": 1,
      "views": {
       "default_view": {
        "hidden": true
       }
      }
     }
    }
   },
   "outputs": [],
   "source": [
    "def relative_change(x,y):\n",
    "    return abs(x-y)/((abs(x)+abs(y))/2)\n",
    "\n",
    "#emb_df_sim = emb_df.loc[emb_df['color_sim']<=threshold].copy()\n",
    "emb_df_sim = emb_df.loc[emb_df['mark_umap_dist']<=threshold].copy()\n",
    "emb_df_sim['mark_umap_rc'] = emb_df_sim.apply(lambda x: (relative_change(mark_u0,x['umap_0'])+relative_change(mark_u1,x['umap_1']))/2, axis=1) #Percentage of similarity against marked id\n",
    "df_geo = df[['id','latitude','longitude']].set_index('id')\n",
    "emb_df_sim = emb_df_sim.join(df_geo,how='inner')\n",
    "mark = df.loc[df['id']==mark_id]\n",
    "mark_geo = (df.loc[df['id']==mark_id]['latitude'],df.loc[df['id']==mark_id]['longitude'])\n",
    "emb_df_sim['mark_geo_dist'] = emb_df_sim.apply(lambda x: lldist(mark_geo[0],mark_geo[1],x['latitude'],x['longitude']), axis=1)\n",
    "emb_df_sim.to_csv('geodata.csv')"
   ]
  },
  {
   "cell_type": "code",
   "execution_count": 17,
   "metadata": {
    "extensions": {
     "jupyter_dashboards": {
      "version": 1,
      "views": {
       "default_view": {
        "col": 5,
        "height": 3,
        "hidden": false,
        "row": 77,
        "width": 6
       }
      }
     }
    }
   },
   "outputs": [
    {
     "name": "stdout",
     "output_type": "stream",
     "text": [
      "Average relative change (percentage): 49.44338662730131%\n"
     ]
    }
   ],
   "source": [
    "#plt.figure(figsize=(25,30))\n",
    "#plt.xlim(0, 1)\n",
    "#plt.ylim(0, 1)\n",
    "#plt.scatter(emb_df_sim['d_y'],emb_df_sim['d_x'],c = emb_df_sim['umap_color_rgb'], s = 90)\n",
    "#plt.show()\n",
    "rc_pro = emb_df_sim.drop([mark_id])['mark_umap_rc'].mean()*100\n",
    "print('Average relative change (percentage): ' + str(rc_pro) + '%')"
   ]
  },
  {
   "cell_type": "code",
   "execution_count": 18,
   "metadata": {
    "extensions": {
     "jupyter_dashboards": {
      "version": 1,
      "views": {
       "default_view": {
        "col": 0,
        "height": 28,
        "hidden": false,
        "row": 82,
        "width": 11
       }
      }
     }
    }
   },
   "outputs": [
    {
     "data": {
      "application/vnd.jupyter.widget-view+json": {
       "model_id": "80deb62d6f714b5f8a6b262d2708d786",
       "version_major": 2,
       "version_minor": 0
      },
      "text/plain": [
       "Canvas(toolbar=Toolbar(toolitems=[('Home', 'Reset original view', 'home', 'home'), ('Back', 'Back to previous …"
      ]
     },
     "metadata": {},
     "output_type": "display_data"
    }
   ],
   "source": [
    "label_text = \"ID {0}\\nGeographical Distance {1}\\nUMAP Distance {2}\\nRelative Change {3}%\"\n",
    "fig, ax1 = plt.subplots(figsize=(12,12))\n",
    "fig.tight_layout()\n",
    "ax1.set_xlim([-0.05,1.05])\n",
    "ax1.set_ylim([-0.05,1.05])\n",
    "emb_df_sim.plot.scatter('d_y','d_x',c = emb_df_sim['umap_color_rgb'],s=20, ax=ax1)\n",
    "mplcursors.cursor(hover=True).connect(\"add\", lambda sel: sel.annotation.set_text(\n",
    "    label_text.format(emb_df_sim.iloc[sel.target.index].name,emb_df_sim.iloc[sel.target.index]['mark_geo_dist'],emb_df_sim.iloc[sel.target.index]['mark_umap_dist'],emb_df_sim.iloc[sel.target.index]['mark_umap_rc'])))\n",
    "ax1.scatter(emb_df_sim.loc[mark_id]['d_y'],emb_df_sim.loc[mark_id]['d_x'],c='k',marker='*')\n",
    "plt.show()"
   ]
  },
  {
   "cell_type": "code",
   "execution_count": 19,
   "metadata": {
    "extensions": {
     "jupyter_dashboards": {
      "version": 1,
      "views": {
       "default_view": {
        "hidden": true
       }
      }
     }
    }
   },
   "outputs": [],
   "source": [
    "filter_ids = emb_df_sim.index\n",
    "df_pca = df[df['id'].isin(filter_ids)].copy().reset_index()\n",
    "raw_data_pca = df_pca[data_cols].values\n",
    "std_data_pca = StandardScaler().fit_transform(raw_data_pca)\n",
    "pca = PCA(n_components=2)\n",
    "pc_data = pca.fit_transform(std_data_pca)\n",
    "pc_df = pd.DataFrame(data = pc_data,columns = ['pc_0', 'pc_1'])\n",
    "sim_data = emb_df_sim[['umap_color_rgb','mark_geo_dist']].reset_index().rename(columns={\"index\": \"id\"}) #Restoring the id column from index\n",
    "pc_df = pd.concat([pc_df, sim_data], axis = 1)"
   ]
  },
  {
   "cell_type": "code",
   "execution_count": 20,
   "metadata": {
    "extensions": {
     "jupyter_dashboards": {
      "version": 1,
      "views": {
       "default_view": {
        "col": 5,
        "height": 2,
        "hidden": false,
        "row": 80,
        "width": 6
       }
      }
     }
    }
   },
   "outputs": [
    {
     "data": {
      "application/vnd.jupyter.widget-view+json": {
       "model_id": "efed8de838984968b2a539d1077e2f5d",
       "version_major": 2,
       "version_minor": 0
      },
      "text/plain": [
       "FloatText(value=0.0, description='Minimum geographical distance')"
      ]
     },
     "metadata": {},
     "output_type": "display_data"
    }
   ],
   "source": [
    "def min_dist_observer(field):\n",
    "    global min_dist\n",
    "    min_dist = field.new\n",
    "    display(Javascript('IPython.notebook.execute_cells_below()'))\n",
    "\n",
    "min_dist_field = FloatText(value=min_dist,Min=0,Max=20,description='Minimum geographical distance')\n",
    "min_dist_field.observe(min_dist_observer,'value')\n",
    "display(min_dist_field)"
   ]
  },
  {
   "cell_type": "code",
   "execution_count": 21,
   "metadata": {
    "extensions": {
     "jupyter_dashboards": {
      "version": 1,
      "views": {
       "default_view": {
        "col": 0,
        "height": 27,
        "hidden": false,
        "row": 110,
        "width": 11
       }
      }
     }
    }
   },
   "outputs": [
    {
     "data": {
      "application/vnd.jupyter.widget-view+json": {
       "model_id": "d85622989d9f4b94a94811955e22c3bd",
       "version_major": 2,
       "version_minor": 0
      },
      "text/plain": [
       "Canvas(toolbar=Toolbar(toolitems=[('Home', 'Reset original view', 'home', 'home'), ('Back', 'Back to previous …"
      ]
     },
     "metadata": {},
     "output_type": "display_data"
    },
    {
     "data": {
      "text/plain": [
       "<matplotlib.collections.PathCollection at 0x1ca0c2e0>"
      ]
     },
     "execution_count": 21,
     "metadata": {},
     "output_type": "execute_result"
    }
   ],
   "source": [
    "#%matplotlib widget\n",
    "label_text = \"ID {0}\\nGeographical Distance {1}\"\n",
    "pc_df_filtered = pc_df.loc[pc_df['mark_geo_dist']>=min_dist].copy()\n",
    "fig, ax1 = plt.subplots(figsize=(12,12))\n",
    "fig.tight_layout()\n",
    "#ax1.set_xlim([-6,14])\n",
    "#ax1.set_ylim([-6,14])\n",
    "ax1.set_aspect('equal', adjustable='datalim')\n",
    "pc_df_filtered.plot.scatter('pc_0','pc_1',c = pc_df_filtered['umap_color_rgb'],s=20, ax=ax1)\n",
    "mplcursors.cursor(hover=True).connect(\"add\", lambda sel: sel.annotation.set_text(\n",
    "    label_text.format(pc_df_filtered.iloc[sel.target.index]['id'],pc_df_filtered.iloc[sel.target.index]['mark_geo_dist'])))\n",
    "ax1.scatter(pc_df[pc_df['id']==mark_id]['pc_0'],pc_df[pc_df['id']==mark_id]['pc_1'],c='k',marker='*')"
   ]
  },
  {
   "cell_type": "code",
   "execution_count": 22,
   "metadata": {
    "extensions": {
     "jupyter_dashboards": {
      "version": 1,
      "views": {
       "default_view": {
        "col": 0,
        "height": 4,
        "hidden": false,
        "row": 137,
        "width": 11
       }
      }
     }
    }
   },
   "outputs": [
    {
     "data": {
      "text/plain": [
       "{'hm17com_pob_tot': 1.1534784671430199e-17,\n",
       " 'hm17mz_pob_tot_ssum2': -1.932076432464558e-16,\n",
       " 'hm17mz_lab_pea_ssum2': 7.930164461608261e-17,\n",
       " 'hm17mz_gse_ab_ssum2': -8.074349270001139e-17,\n",
       " 'hm17mz_gse_c1a_ssum2': 7.209240419643874e-17,\n",
       " 'hm17mz_gse_c1b_ssum2': -1.0092936587501423e-17,\n",
       " 'hm17mz_gse_c2_ssum2': 2.0906797216967234e-17,\n",
       " 'hm17mz_gse_c3_ssum2': 1.4418480839287748e-18,\n",
       " 'hm17mz_gse_d_ssum2': -2.0185873175002847e-17,\n",
       " 'hm17mz_gse_e_ssum2': -5.767392335715099e-18,\n",
       " 'Hm17mz_ing_au_2hog_sv2': -3.2297397080004555e-16,\n",
       " 'Hm17mz_ing_au_2pce_sv2': -1.6220790944198715e-17,\n",
       " 'pore2_AreasVerdes': -6.344131569286608e-17,\n",
       " 'pore2_clinica': -3.604620209821937e-17,\n",
       " 'pore2_estacionesmetro': -7.425517632233189e-17,\n",
       " 'pore2_hospital': -4.6139138685720794e-17,\n",
       " 'pore2_pharmacy': -2.883696167857549e-17,\n",
       " 'pore2_saludeducacion': 3.7488050182148143e-17,\n",
       " 'pore2_supermarket': -2.3069569342860397e-17,\n",
       " 'pore2_TiendasConveniencia': 9.083642928751281e-17}"
      ]
     },
     "execution_count": 22,
     "metadata": {},
     "output_type": "execute_result"
    }
   ],
   "source": [
    "{d:m for d,m in zip(data_cols,pca.mean_)}"
   ]
  },
  {
   "cell_type": "code",
   "execution_count": 23,
   "metadata": {
    "extensions": {
     "jupyter_dashboards": {
      "version": 1,
      "views": {
       "default_view": {
        "hidden": true
       }
      }
     }
    }
   },
   "outputs": [],
   "source": [
    "target_id = 0"
   ]
  },
  {
   "cell_type": "code",
   "execution_count": 24,
   "metadata": {
    "extensions": {
     "jupyter_dashboards": {
      "version": 1,
      "views": {
       "default_view": {
        "col": 0,
        "height": 2,
        "hidden": false,
        "row": 141,
        "width": 11
       }
      }
     }
    }
   },
   "outputs": [
    {
     "data": {
      "application/vnd.jupyter.widget-view+json": {
       "model_id": "196e1677511c4f1cbc6e23ec5a699326",
       "version_major": 2,
       "version_minor": 0
      },
      "text/plain": [
       "FloatText(value=0.0, description='Target marker ID')"
      ]
     },
     "metadata": {},
     "output_type": "display_data"
    }
   ],
   "source": [
    "def target_observer(field):\n",
    "    global target_id\n",
    "    target_id = field.new\n",
    "    display(Javascript('IPython.notebook.execute_cells_below()'))\n",
    "\n",
    "target_id_field = FloatText(value=target_id,Min=0,Max=1000000,description='Target marker ID')\n",
    "target_id_field.observe(target_observer,'value')\n",
    "display(target_id_field)"
   ]
  },
  {
   "cell_type": "code",
   "execution_count": 25,
   "metadata": {
    "extensions": {
     "jupyter_dashboards": {
      "version": 1,
      "views": {
       "default_view": {
        "col": 0,
        "height": 2,
        "hidden": false,
        "row": 143,
        "width": 11
       }
      }
     }
    }
   },
   "outputs": [
    {
     "name": "stdout",
     "output_type": "stream",
     "text": [
      "Select a valid target mark ID\n"
     ]
    }
   ],
   "source": [
    "def similarity(x,y):\n",
    "    t = (x,y)\n",
    "    return min(t)/max(t) \n",
    "try:\n",
    "    target_index = df[df['id']==target_id][data_cols].index[0]\n",
    "    mark_index = df[df['id']==mark_id][data_cols].index[0]\n",
    "    rows = df.loc[[mark_index,target_index], data_cols]\n",
    "    rc_values = rows.apply(lambda x: str(similarity(x[mark_index],x[target_index])*100)+'%')\n",
    "    print(rc_values.rename(desc_all))\n",
    "except IndexError:\n",
    "    print('Select a valid target mark ID')"
   ]
  }
 ],
 "metadata": {
  "extensions": {
   "jupyter_dashboards": {
    "activeView": "default_view",
    "version": 1,
    "views": {
     "default_view": {
      "cellMargin": 10,
      "defaultCellHeight": 40,
      "maxColumns": 12,
      "name": "active_view",
      "type": "grid"
     }
    }
   }
  },
  "kernelspec": {
   "display_name": "Python 3",
   "language": "python",
   "name": "python3"
  },
  "language_info": {
   "codemirror_mode": {
    "name": "ipython",
    "version": 3
   },
   "file_extension": ".py",
   "mimetype": "text/x-python",
   "name": "python",
   "nbconvert_exporter": "python",
   "pygments_lexer": "ipython3",
   "version": "3.8.5"
  }
 },
 "nbformat": 4,
 "nbformat_minor": 4
}
